{
 "cells": [
  {
   "attachments": {},
   "cell_type": "markdown",
   "metadata": {},
   "source": [
    "# exceptions\n"
   ]
  },
  {
   "cell_type": "code",
   "execution_count": 1,
   "metadata": {},
   "outputs": [],
   "source": [
    "test=\"adam\""
   ]
  },
  {
   "cell_type": "code",
   "execution_count": 2,
   "metadata": {},
   "outputs": [
    {
     "name": "stdout",
     "output_type": "stream",
     "text": [
      "adam\n"
     ]
    }
   ],
   "source": [
    "print(test)"
   ]
  },
  {
   "cell_type": "code",
   "execution_count": 4,
   "metadata": {},
   "outputs": [],
   "source": [
    "name=\"Hussam\""
   ]
  },
  {
   "cell_type": "code",
   "execution_count": 6,
   "metadata": {},
   "outputs": [
    {
     "name": "stdout",
     "output_type": "stream",
     "text": [
      "Hussam\n"
     ]
    }
   ],
   "source": [
    "print(name)"
   ]
  },
  {
   "cell_type": "code",
   "execution_count": 8,
   "metadata": {},
   "outputs": [
    {
     "name": "stdout",
     "output_type": "stream",
     "text": [
      "let's do something totally wrong. See if you can spot me in the output!\n",
      "Too many parentheses\n"
     ]
    }
   ],
   "source": [
    "\n",
    "print(\"let's do something totally wrong. See if you can spot me in the output!\")\n",
    "print(\"Too many parentheses\")\n",
    "     \n",
    "\n"
   ]
  },
  {
   "cell_type": "code",
   "execution_count": 10,
   "metadata": {},
   "outputs": [
    {
     "name": "stdout",
     "output_type": "stream",
     "text": [
      "More wrongness. Do I get printed?\n",
      "Who has ever 'messed up' quotations marks?\n"
     ]
    }
   ],
   "source": [
    "print(\"More wrongness. Do I get printed?\")\n",
    "print(\"Who has ever 'messed up' quotations marks?\")"
   ]
  },
  {
   "cell_type": "code",
   "execution_count": 12,
   "metadata": {},
   "outputs": [
    {
     "name": "stdout",
     "output_type": "stream",
     "text": [
      "What happens now? Do you see me printed?\n",
      "0.3333333333333333\n"
     ]
    }
   ],
   "source": [
    "\n",
    "print(\"What happens now? Do you see me printed?\")\n",
    "value = 1/3\n",
    "print(value)"
   ]
  },
  {
   "cell_type": "code",
   "execution_count": 16,
   "metadata": {},
   "outputs": [
    {
     "name": "stdout",
     "output_type": "stream",
     "text": [
      "What happens now? Do you see me printed?\n"
     ]
    },
    {
     "ename": "TypeError",
     "evalue": "unsupported operand type(s) for /: 'int' and 'str'",
     "output_type": "error",
     "traceback": [
      "\u001b[0;31m---------------------------------------------------------------------------\u001b[0m",
      "\u001b[0;31mTypeError\u001b[0m                                 Traceback (most recent call last)",
      "Cell \u001b[0;32mIn[16], line 3\u001b[0m\n\u001b[1;32m      1\u001b[0m \u001b[39mprint\u001b[39m(\u001b[39m\"\u001b[39m\u001b[39mWhat happens now? Do you see me printed?\u001b[39m\u001b[39m\"\u001b[39m)\n\u001b[1;32m      2\u001b[0m x\u001b[39m=\u001b[39m \u001b[39minput\u001b[39m(\u001b[39m\"\u001b[39m\u001b[39menter a number\u001b[39m\u001b[39m\"\u001b[39m)\n\u001b[0;32m----> 3\u001b[0m value \u001b[39m=\u001b[39m \u001b[39m1\u001b[39;49m\u001b[39m/\u001b[39;49mx\n\u001b[1;32m      4\u001b[0m \u001b[39mprint\u001b[39m(value)\n\u001b[1;32m      5\u001b[0m \u001b[39mprint\u001b[39m(\u001b[39m\"\u001b[39m\u001b[39mbye bye 1\u001b[39m\u001b[39m\"\u001b[39m)\n",
      "\u001b[0;31mTypeError\u001b[0m: unsupported operand type(s) for /: 'int' and 'str'"
     ]
    }
   ],
   "source": [
    "print(\"What happens now? Do you see me printed?\")\n",
    "x= input(\"enter a number\")\n",
    "value = 1/x\n",
    "print(value)\n",
    "print(\"bye bye 1\")\n",
    "print(\"bye bye 2\")\n",
    "\n"
   ]
  },
  {
   "cell_type": "code",
   "execution_count": 28,
   "metadata": {},
   "outputs": [
    {
     "name": "stdout",
     "output_type": "stream",
     "text": [
      "<class 'str'>\n",
      "dont enter a string !!\n",
      "0.16666666666666666\n",
      "bye bye with finally\n",
      "bye bye\n",
      "bye bye\n",
      "bye bye\n"
     ]
    }
   ],
   "source": [
    "try:\n",
    "    x= input(\"enter a number\")\n",
    "    print(type(x)) # default datatype of input res\n",
    "    value = 1/x # TYPE error\n",
    "    print(value)\n",
    "\n",
    "\n",
    "except TypeError :   \n",
    "    print(\"dont enter a string !!\")\n",
    "    res=1/float(x)\n",
    "    print(res) \n",
    "\n",
    "except ZeroDivisionError:\n",
    "    print(\"dont enter a zero !!\")  \n",
    "    \n",
    "except :\n",
    "    print(\"something went wrong\")   \n",
    "\n",
    "finally :\n",
    "    print(\"bye bye with finally\")\n",
    "\n",
    "\n",
    "print(\"bye bye\")\n",
    "print(\"bye bye\")\n",
    "print(\"bye bye\")\n",
    "\n",
    "\n",
    "\n",
    "\n",
    "    \n"
   ]
  },
  {
   "cell_type": "code",
   "execution_count": null,
   "metadata": {},
   "outputs": [],
   "source": []
  },
  {
   "cell_type": "code",
   "execution_count": 29,
   "metadata": {},
   "outputs": [],
   "source": [
    "class NotAdultError(Exception):\n",
    "    def __init__(self, age):\n",
    "        super().__init__(f\"you are not adult !!,your age is {age}\")"
   ]
  },
  {
   "cell_type": "code",
   "execution_count": 32,
   "metadata": {},
   "outputs": [
    {
     "name": "stdout",
     "output_type": "stream",
     "text": [
      "you can join us afer ypu become 18\n"
     ]
    }
   ],
   "source": [
    "age_1 = input(\"enter your age \")\n",
    "age=int(age_1)\n",
    "\n",
    "try: \n",
    "    if age<18:\n",
    "        raise NotAdultError(age)\n",
    "    else:\n",
    "        print (\"welcome onboard !\")\n",
    "except NotAdultError :\n",
    "    print (\"you can join us afer ypu become 18\")    "
   ]
  }
 ],
 "metadata": {
  "kernelspec": {
   "display_name": ".venv",
   "language": "python",
   "name": "python3"
  },
  "language_info": {
   "codemirror_mode": {
    "name": "ipython",
    "version": 3
   },
   "file_extension": ".py",
   "mimetype": "text/x-python",
   "name": "python",
   "nbconvert_exporter": "python",
   "pygments_lexer": "ipython3",
   "version": "3.11.3"
  },
  "orig_nbformat": 4
 },
 "nbformat": 4,
 "nbformat_minor": 2
}
